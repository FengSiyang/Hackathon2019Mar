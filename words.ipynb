{
    "nbformat_minor": 1, 
    "cells": [
        {
            "source": "import numpy as np\nimport pandas as pd\nimport urllib.request\nfrom bs4 import BeautifulSoup as bs\nimport re", 
            "cell_type": "code", 
            "metadata": {}, 
            "outputs": [], 
            "execution_count": 1
        }, 
        {
            "source": "import types\nimport pandas as pd\nfrom botocore.client import Config\nimport ibm_boto3\n\ndef __iter__(self): return 0\n\n# @hidden_cell\n# The following code accesses a file in your IBM Cloud Object Storage. It includes your credentials.\n# You might want to remove those credentials before you share your notebook.\nclient_bb2ff9ec7be94d32a0bcbbd5629362b2 = ibm_boto3.client(service_name='s3',\n    ibm_api_key_id='259gjQsHpRoIqbV9mHDv8wkI-N_ijCjRh2mIsbQmrp5i',\n    ibm_auth_endpoint=\"https://iam.bluemix.net/oidc/token\",\n    config=Config(signature_version='oauth'),\n    endpoint_url='https://s3-api.us-geo.objectstorage.service.networklayer.com')\n\nbody = client_bb2ff9ec7be94d32a0bcbbd5629362b2.get_object(Bucket='hackathon1-donotdelete-pr-swi2lnzkhpnd0w',Key='Hackathon-data scientist.csv')['Body']\n# add missing __iter__ method, so pandas accepts body as file-like object\nif not hasattr(body, \"__iter__\"): body.__iter__ = types.MethodType( __iter__, body )\n\ndf_ds = pd.read_csv(body, header=None)\ndf_ds.columns = [\"URL\"]\ndf_ds.head()\n\n\nbody = client_bb2ff9ec7be94d32a0bcbbd5629362b2.get_object(Bucket='hackathon1-donotdelete-pr-swi2lnzkhpnd0w',Key='Hackathon-engineering.csv')['Body']\n# add missing __iter__ method, so pandas accepts body as file-like object\nif not hasattr(body, \"__iter__\"): body.__iter__ = types.MethodType( __iter__, body )\n\ndf_eng = pd.read_csv(body, header=None)\ndf_eng.columns = [\"URL\"]\ndf_eng.head()\n\n\nbody = client_bb2ff9ec7be94d32a0bcbbd5629362b2.get_object(Bucket='hackathon1-donotdelete-pr-swi2lnzkhpnd0w',Key='Hackathon-not engineering.csv')['Body']\n# add missing __iter__ method, so pandas accepts body as file-like object\nif not hasattr(body, \"__iter__\"): body.__iter__ = types.MethodType( __iter__, body )\n\ndf_neng = pd.read_csv(body, header=None)\ndf_neng.columns = [\"URL\"]\ndf_neng.head()\n\n", 
            "cell_type": "code", 
            "metadata": {
                "scrolled": true
            }, 
            "outputs": [
                {
                    "output_type": "execute_result", 
                    "data": {
                        "text/html": "<div>\n<style scoped>\n    .dataframe tbody tr th:only-of-type {\n        vertical-align: middle;\n    }\n\n    .dataframe tbody tr th {\n        vertical-align: top;\n    }\n\n    .dataframe thead th {\n        text-align: right;\n    }\n</style>\n<table border=\"1\" class=\"dataframe\">\n  <thead>\n    <tr style=\"text-align: right;\">\n      <th></th>\n      <th>URL</th>\n    </tr>\n  </thead>\n  <tbody>\n    <tr>\n      <th>0</th>\n      <td>https://www.indeed.com/cmp/Total-Financial-Fre...</td>\n    </tr>\n    <tr>\n      <th>1</th>\n      <td>https://www.indeed.com/cmp/Erie-Construction/j...</td>\n    </tr>\n    <tr>\n      <th>2</th>\n      <td>https://www.indeed.com/viewjob?jk=946c24f2a3ae...</td>\n    </tr>\n    <tr>\n      <th>3</th>\n      <td>https://www.indeed.com/cmp/MaidPro-Franchising...</td>\n    </tr>\n    <tr>\n      <th>4</th>\n      <td>https://www.indeed.com/cmp/LTC-Consulting-Serv...</td>\n    </tr>\n  </tbody>\n</table>\n</div>", 
                        "text/plain": "                                                 URL\n0  https://www.indeed.com/cmp/Total-Financial-Fre...\n1  https://www.indeed.com/cmp/Erie-Construction/j...\n2  https://www.indeed.com/viewjob?jk=946c24f2a3ae...\n3  https://www.indeed.com/cmp/MaidPro-Franchising...\n4  https://www.indeed.com/cmp/LTC-Consulting-Serv..."
                    }, 
                    "execution_count": 71, 
                    "metadata": {}
                }
            ], 
            "execution_count": 71
        }, 
        {
            "source": "def selecting(df,lb):\n\n    col_names =  ['contensts', 'label']\n    result  = pd.DataFrame(columns = col_names)\n    \n    for i in df.URL:\n        x = urllib.request.urlopen(i)\n        html_page = x.read()\n        a = bs(html_page, 'html.parser')\n        try:\n            #job_title = a.find(\"h3\", {\"class\":\"icl-u-xs-mb--xs icl-u-xs-mt--none jobsearch-JobInfoHeader-title\"}).contents[0]\n            conts = a.find(\"div\",{\"class\":\"jobsearch-JobComponent-description icl-u-xs-mt--md\"}).contents\n\n        except:\n            #job_title = a.find(\"font\").contents[0]\n            conts = a.find(\"div\", id=\"desc\").contents\n\n        t = \"\"\n        for i in range(len(conts)):\n            try:\n                t = t + conts[i].get_text()\n            except:\n                continue\n        result = result.append({'contensts': t, 'label': lb}, ignore_index=True)\n        \n    return result\n\n    ", 
            "cell_type": "code", 
            "metadata": {
                "scrolled": true
            }, 
            "outputs": [], 
            "execution_count": 95
        }, 
        {
            "source": "ds = selecting(df_ds, \"Data Science\")", 
            "cell_type": "code", 
            "metadata": {}, 
            "outputs": [], 
            "execution_count": 101
        }, 
        {
            "source": "eng = selecting(df_eng, \"Engineer\")", 
            "cell_type": "code", 
            "metadata": {
                "scrolled": true
            }, 
            "outputs": [], 
            "execution_count": 102
        }, 
        {
            "source": "neng = selecting(df_neng, \"Not Engineer\")", 
            "cell_type": "code", 
            "metadata": {}, 
            "outputs": [], 
            "execution_count": 103
        }, 
        {
            "source": "final = pd.concat([ds, eng, neng], ignore_index=True)\nfinal", 
            "cell_type": "code", 
            "metadata": {}, 
            "outputs": [
                {
                    "output_type": "execute_result", 
                    "data": {
                        "text/html": "<div>\n<style scoped>\n    .dataframe tbody tr th:only-of-type {\n        vertical-align: middle;\n    }\n\n    .dataframe tbody tr th {\n        vertical-align: top;\n    }\n\n    .dataframe thead th {\n        text-align: right;\n    }\n</style>\n<table border=\"1\" class=\"dataframe\">\n  <thead>\n    <tr style=\"text-align: right;\">\n      <th></th>\n      <th>contensts</th>\n      <th>label</th>\n    </tr>\n  </thead>\n  <tbody>\n    <tr>\n      <th>0</th>\n      <td>At Uber, we ignite opportunity by setting the ...</td>\n      <td>Data Science</td>\n    </tr>\n    <tr>\n      <th>1</th>\n      <td>Description\\nPosition Background:\\nYou already...</td>\n      <td>Data Science</td>\n    </tr>\n    <tr>\n      <th>2</th>\n      <td>Overview\\nEMPLOYER: 7-Eleven, Inc.\\n\\nJOB TITL...</td>\n      <td>Data Science</td>\n    </tr>\n    <tr>\n      <th>3</th>\n      <td>At Roswell, we are on a mission to make genome...</td>\n      <td>Data Science</td>\n    </tr>\n    <tr>\n      <th>4</th>\n      <td>Job Description\\n\\nAnalyst \u2013 Data &amp; Analysis\\n...</td>\n      <td>Data Science</td>\n    </tr>\n    <tr>\n      <th>5</th>\n      <td>Job Description\\n\\nAs a Data Scientist 1, you ...</td>\n      <td>Data Science</td>\n    </tr>\n    <tr>\n      <th>6</th>\n      <td>Bachelor's degree or higher in a quantitative/...</td>\n      <td>Data Science</td>\n    </tr>\n    <tr>\n      <th>7</th>\n      <td>Summary\\nPosted: Feb 5, 2019\\nWeekly Hours: 40...</td>\n      <td>Data Science</td>\n    </tr>\n    <tr>\n      <th>8</th>\n      <td>Position:Pay Rate:Location:Hours:Description:\\...</td>\n      <td>Data Science</td>\n    </tr>\n    <tr>\n      <th>9</th>\n      <td>Captains of Innovation, located within one of ...</td>\n      <td>Data Science</td>\n    </tr>\n    <tr>\n      <th>10</th>\n      <td>AI LAB is a company with a goal to help client...</td>\n      <td>Data Science</td>\n    </tr>\n    <tr>\n      <th>11</th>\n      <td>Master\u2019s degree in engineering, math, statisti...</td>\n      <td>Data Science</td>\n    </tr>\n    <tr>\n      <th>12</th>\n      <td>Logistics Technician\\n - (BOS-LOG-18580)\\n\\nAb...</td>\n      <td>Data Science</td>\n    </tr>\n    <tr>\n      <th>13</th>\n      <td>Job Description\\n\\nAnalyst \u2013 Data &amp; Analysis\\n...</td>\n      <td>Data Science</td>\n    </tr>\n    <tr>\n      <th>14</th>\n      <td>ETL/SQL Data Engineer: Insight Digital Innovat...</td>\n      <td>Data Science</td>\n    </tr>\n    <tr>\n      <th>15</th>\n      <td>Data Management and Quantitative Analysis - IC...</td>\n      <td>Data Science</td>\n    </tr>\n    <tr>\n      <th>16</th>\n      <td>Examples of Work include:Two ways to save for ...</td>\n      <td>Data Science</td>\n    </tr>\n    <tr>\n      <th>17</th>\n      <td>Position Overview and DefinitionThe Field Engi...</td>\n      <td>Data Science</td>\n    </tr>\n    <tr>\n      <th>18</th>\n      <td>Quantitative Analyst, New York, NY. Develop an...</td>\n      <td>Data Science</td>\n    </tr>\n    <tr>\n      <th>19</th>\n      <td>Job SummaryDescription: Responsible for conduc...</td>\n      <td>Data Science</td>\n    </tr>\n    <tr>\n      <th>20</th>\n      <td>Job type: Full timeJob Location: Bellevue, WAD...</td>\n      <td>Data Science</td>\n    </tr>\n    <tr>\n      <th>21</th>\n      <td>York Risk is hiring a Data Scientist/Machine L...</td>\n      <td>Data Science</td>\n    </tr>\n    <tr>\n      <th>22</th>\n      <td>Business/Team IntroductionThe Amazon Demand Fo...</td>\n      <td>Data Science</td>\n    </tr>\n    <tr>\n      <th>23</th>\n      <td>Full Time(Students and Experienced candidates)...</td>\n      <td>Data Science</td>\n    </tr>\n    <tr>\n      <th>24</th>\n      <td>Full Time(Students and Experienced candidates)...</td>\n      <td>Data Science</td>\n    </tr>\n    <tr>\n      <th>25</th>\n      <td>ULC Robotics is a leader in product developmen...</td>\n      <td>Data Science</td>\n    </tr>\n    <tr>\n      <th>26</th>\n      <td>In this position, you will help build out data...</td>\n      <td>Data Science</td>\n    </tr>\n    <tr>\n      <th>27</th>\n      <td>Job Description\\n\\nSenior Analyst \u2013 Data &amp; Ana...</td>\n      <td>Data Science</td>\n    </tr>\n    <tr>\n      <th>28</th>\n      <td>Job Summary:Core Responsibilities:\\nWorks clos...</td>\n      <td>Data Science</td>\n    </tr>\n    <tr>\n      <th>29</th>\n      <td>NEBHE BACKGROUND: Established in 1955 by six v...</td>\n      <td>Data Science</td>\n    </tr>\n    <tr>\n      <th>...</th>\n      <td>...</td>\n      <td>...</td>\n    </tr>\n    <tr>\n      <th>64</th>\n      <td>Support prototype manufacturing and testing.\\n...</td>\n      <td>Engineer</td>\n    </tr>\n    <tr>\n      <th>65</th>\n      <td>We at Crate and Barrel want to ensure we help ...</td>\n      <td>Engineer</td>\n    </tr>\n    <tr>\n      <th>66</th>\n      <td>What we\u2019re looking for:\\n\\nOpinion Dynamics is...</td>\n      <td>Engineer</td>\n    </tr>\n    <tr>\n      <th>67</th>\n      <td>\\nManage projects that impact and involve nume...</td>\n      <td>Engineer</td>\n    </tr>\n    <tr>\n      <th>68</th>\n      <td>Job Responsibilities\\nIF YOU ARE HAVING DIFFIC...</td>\n      <td>Engineer</td>\n    </tr>\n    <tr>\n      <th>69</th>\n      <td>$35,000 - $72,000 a yearWe are looking for a S...</td>\n      <td>Not Engineer</td>\n    </tr>\n    <tr>\n      <th>70</th>\n      <td>$75,000 - $100,000 a yearGRAND OPENING - WALTH...</td>\n      <td>Not Engineer</td>\n    </tr>\n    <tr>\n      <th>71</th>\n      <td>About the Job:\\nManage a pipeline of new logos...</td>\n      <td>Not Engineer</td>\n    </tr>\n    <tr>\n      <th>72</th>\n      <td>$37,000 - $50,000 a yearPart-timeMaidPro is a ...</td>\n      <td>Not Engineer</td>\n    </tr>\n    <tr>\n      <th>73</th>\n      <td>$55,000 - $75,000 a yearWe are a NJ based comp...</td>\n      <td>Not Engineer</td>\n    </tr>\n    <tr>\n      <th>74</th>\n      <td>$17 an hourKEY Discovery is looking for enthus...</td>\n      <td>Not Engineer</td>\n    </tr>\n    <tr>\n      <th>75</th>\n      <td>Part-timeWe are hiring sales associates to joi...</td>\n      <td>Not Engineer</td>\n    </tr>\n    <tr>\n      <th>76</th>\n      <td>ContractJob Description:\\nJob Title: Sales Rep...</td>\n      <td>Not Engineer</td>\n    </tr>\n    <tr>\n      <th>77</th>\n      <td>Sheehan Health Group (SHG) is seeking an exter...</td>\n      <td>Not Engineer</td>\n    </tr>\n    <tr>\n      <th>78</th>\n      <td>Signature Breads is an independent, employee o...</td>\n      <td>Not Engineer</td>\n    </tr>\n    <tr>\n      <th>79</th>\n      <td>Reporting directly to the Director of Developm...</td>\n      <td>Not Engineer</td>\n    </tr>\n    <tr>\n      <th>80</th>\n      <td>$40,000 - $150,000 a yearWe offer a comprehens...</td>\n      <td>Not Engineer</td>\n    </tr>\n    <tr>\n      <th>81</th>\n      <td>Principal Duties and Responsibilities: Work wi...</td>\n      <td>Not Engineer</td>\n    </tr>\n    <tr>\n      <th>82</th>\n      <td>Esplanade AssociationJob Title: Development an...</td>\n      <td>Not Engineer</td>\n    </tr>\n    <tr>\n      <th>83</th>\n      <td>$40,000 - $50,000 a yearIf you would enjoy wor...</td>\n      <td>Not Engineer</td>\n    </tr>\n    <tr>\n      <th>84</th>\n      <td>$40,000 - $50,000 a year\u201cDrive more, worry les...</td>\n      <td>Not Engineer</td>\n    </tr>\n    <tr>\n      <th>85</th>\n      <td>\\nCoordinating operations of our DMP, includin...</td>\n      <td>Not Engineer</td>\n    </tr>\n    <tr>\n      <th>86</th>\n      <td>Seeking a Registered Nurse, under the directio...</td>\n      <td>Not Engineer</td>\n    </tr>\n    <tr>\n      <th>87</th>\n      <td>Part-timeGENERAL STATEMENT OF MAIN FUNCTION FO...</td>\n      <td>Not Engineer</td>\n    </tr>\n    <tr>\n      <th>88</th>\n      <td>3-5 years experience is required.\\nSummary of ...</td>\n      <td>Not Engineer</td>\n    </tr>\n    <tr>\n      <th>89</th>\n      <td>JOB DESCRIPTION\\nBenchmark Senior Living is gr...</td>\n      <td>Not Engineer</td>\n    </tr>\n    <tr>\n      <th>90</th>\n      <td>$32,000 - $65,000 a yearJob SummaryClassroom t...</td>\n      <td>Not Engineer</td>\n    </tr>\n    <tr>\n      <th>91</th>\n      <td>Part-timeImajine That is seeking an experience...</td>\n      <td>Not Engineer</td>\n    </tr>\n    <tr>\n      <th>92</th>\n      <td>$25 - $30 an hourPart-timeImmediate opening fo...</td>\n      <td>Not Engineer</td>\n    </tr>\n    <tr>\n      <th>93</th>\n      <td>$36,400 - $37,400 a yearPreschool Teacher (Bos...</td>\n      <td>Not Engineer</td>\n    </tr>\n  </tbody>\n</table>\n<p>94 rows \u00d7 2 columns</p>\n</div>", 
                        "text/plain": "                                            contensts         label\n0   At Uber, we ignite opportunity by setting the ...  Data Science\n1   Description\\nPosition Background:\\nYou already...  Data Science\n2   Overview\\nEMPLOYER: 7-Eleven, Inc.\\n\\nJOB TITL...  Data Science\n3   At Roswell, we are on a mission to make genome...  Data Science\n4   Job Description\\n\\nAnalyst \u2013 Data & Analysis\\n...  Data Science\n5   Job Description\\n\\nAs a Data Scientist 1, you ...  Data Science\n6   Bachelor's degree or higher in a quantitative/...  Data Science\n7   Summary\\nPosted: Feb 5, 2019\\nWeekly Hours: 40...  Data Science\n8   Position:Pay Rate:Location:Hours:Description:\\...  Data Science\n9   Captains of Innovation, located within one of ...  Data Science\n10  AI LAB is a company with a goal to help client...  Data Science\n11  Master\u2019s degree in engineering, math, statisti...  Data Science\n12  Logistics Technician\\n - (BOS-LOG-18580)\\n\\nAb...  Data Science\n13  Job Description\\n\\nAnalyst \u2013 Data & Analysis\\n...  Data Science\n14  ETL/SQL Data Engineer: Insight Digital Innovat...  Data Science\n15  Data Management and Quantitative Analysis - IC...  Data Science\n16  Examples of Work include:Two ways to save for ...  Data Science\n17  Position Overview and DefinitionThe Field Engi...  Data Science\n18  Quantitative Analyst, New York, NY. Develop an...  Data Science\n19  Job SummaryDescription: Responsible for conduc...  Data Science\n20  Job type: Full timeJob Location: Bellevue, WAD...  Data Science\n21  York Risk is hiring a Data Scientist/Machine L...  Data Science\n22  Business/Team IntroductionThe Amazon Demand Fo...  Data Science\n23  Full Time(Students and Experienced candidates)...  Data Science\n24  Full Time(Students and Experienced candidates)...  Data Science\n25  ULC Robotics is a leader in product developmen...  Data Science\n26  In this position, you will help build out data...  Data Science\n27  Job Description\\n\\nSenior Analyst \u2013 Data & Ana...  Data Science\n28  Job Summary:Core Responsibilities:\\nWorks clos...  Data Science\n29  NEBHE BACKGROUND: Established in 1955 by six v...  Data Science\n..                                                ...           ...\n64  Support prototype manufacturing and testing.\\n...      Engineer\n65  We at Crate and Barrel want to ensure we help ...      Engineer\n66  What we\u2019re looking for:\\n\\nOpinion Dynamics is...      Engineer\n67  \\nManage projects that impact and involve nume...      Engineer\n68  Job Responsibilities\\nIF YOU ARE HAVING DIFFIC...      Engineer\n69  $35,000 - $72,000 a yearWe are looking for a S...  Not Engineer\n70  $75,000 - $100,000 a yearGRAND OPENING - WALTH...  Not Engineer\n71  About the Job:\\nManage a pipeline of new logos...  Not Engineer\n72  $37,000 - $50,000 a yearPart-timeMaidPro is a ...  Not Engineer\n73  $55,000 - $75,000 a yearWe are a NJ based comp...  Not Engineer\n74  $17 an hourKEY Discovery is looking for enthus...  Not Engineer\n75  Part-timeWe are hiring sales associates to joi...  Not Engineer\n76  ContractJob Description:\\nJob Title: Sales Rep...  Not Engineer\n77  Sheehan Health Group (SHG) is seeking an exter...  Not Engineer\n78  Signature Breads is an independent, employee o...  Not Engineer\n79  Reporting directly to the Director of Developm...  Not Engineer\n80  $40,000 - $150,000 a yearWe offer a comprehens...  Not Engineer\n81  Principal Duties and Responsibilities: Work wi...  Not Engineer\n82  Esplanade AssociationJob Title: Development an...  Not Engineer\n83  $40,000 - $50,000 a yearIf you would enjoy wor...  Not Engineer\n84  $40,000 - $50,000 a year\u201cDrive more, worry les...  Not Engineer\n85  \\nCoordinating operations of our DMP, includin...  Not Engineer\n86  Seeking a Registered Nurse, under the directio...  Not Engineer\n87  Part-timeGENERAL STATEMENT OF MAIN FUNCTION FO...  Not Engineer\n88  3-5 years experience is required.\\nSummary of ...  Not Engineer\n89  JOB DESCRIPTION\\nBenchmark Senior Living is gr...  Not Engineer\n90  $32,000 - $65,000 a yearJob SummaryClassroom t...  Not Engineer\n91  Part-timeImajine That is seeking an experience...  Not Engineer\n92  $25 - $30 an hourPart-timeImmediate opening fo...  Not Engineer\n93  $36,400 - $37,400 a yearPreschool Teacher (Bos...  Not Engineer\n\n[94 rows x 2 columns]"
                    }, 
                    "execution_count": 104, 
                    "metadata": {}
                }
            ], 
            "execution_count": 104
        }, 
        {
            "source": "", 
            "cell_type": "code", 
            "metadata": {}, 
            "outputs": [], 
            "execution_count": null
        }, 
        {
            "source": "", 
            "cell_type": "code", 
            "metadata": {}, 
            "outputs": [], 
            "execution_count": null
        }, 
        {
            "source": "", 
            "cell_type": "code", 
            "metadata": {}, 
            "outputs": [], 
            "execution_count": null
        }
    ], 
    "metadata": {
        "kernelspec": {
            "display_name": "Python 3.5", 
            "name": "python3", 
            "language": "python"
        }, 
        "language_info": {
            "mimetype": "text/x-python", 
            "nbconvert_exporter": "python", 
            "version": "3.5.5", 
            "name": "python", 
            "pygments_lexer": "ipython3", 
            "file_extension": ".py", 
            "codemirror_mode": {
                "version": 3, 
                "name": "ipython"
            }
        }
    }, 
    "nbformat": 4
}