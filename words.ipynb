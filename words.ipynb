{
    "nbformat_minor": 1, 
    "cells": [
        {
            "source": "import numpy as np\nimport pandas as pd\nimport urllib.request\nfrom bs4 import BeautifulSoup as bs\nimport re", 
            "cell_type": "code", 
            "metadata": {}, 
            "outputs": [], 
            "execution_count": 1
        }, 
        {
            "source": "x = urllib.request.urlopen('https://www.indeed.com/viewjob?jk=09c378150b59ed91&tk=1d6kbudnu27er000&from=serp&vjs=3&advn=3432481575695357&adid=168292695&sjdu=EWPHJb1ZpAberNsuRbngZ9bczhETWqvjwR6coHtxZ0zjGIeQYX7jfYA5OcvOTyJsumyFQTKCf-JRlVUgR22EgpkmUdSqWQecAAh8grBl0AsyRgCTnK0wCTDMMViW5fn68oeMzArwA5pRSRhwd1IdSfLyW11X4lOQS8OtDdYVt876Qs1UKj56Ulh4wO3yRwXqn0Pd0SIgaio7wt5s-qjaenDlgu4ikmZEN-wgjmAFCc1CJxvOIjp3-1__stHYdweNgYexFP8pHXiksA_ReD_N750RB8uM0Lazr5Su6-J2mRg')\nhtml_page = x.read()", 
            "cell_type": "code", 
            "metadata": {}, 
            "outputs": [], 
            "execution_count": 2
        }, 
        {
            "source": "a = bs(html_page, 'html.parser')", 
            "cell_type": "code", 
            "metadata": {}, 
            "outputs": [], 
            "execution_count": 3
        }, 
        {
            "source": "job_title = a.find(\"h3\", {\"class\":\"icl-u-xs-mb--xs icl-u-xs-mt--none jobsearch-JobInfoHeader-title\"}).contents[0]\njob_title", 
            "cell_type": "code", 
            "metadata": {}, 
            "outputs": [
                {
                    "output_type": "execute_result", 
                    "data": {
                        "text/plain": "'Sales Associate'"
                    }, 
                    "execution_count": 4, 
                    "metadata": {}
                }
            ], 
            "execution_count": 4
        }, 
        {
            "source": "conts = a.find(\"div\",{\"class\":\"jobsearch-JobComponent-description icl-u-xs-mt--md\"}).contents[0]", 
            "cell_type": "code", 
            "metadata": {}, 
            "outputs": [], 
            "execution_count": 5
        }, 
        {
            "source": "conts", 
            "cell_type": "code", 
            "metadata": {}, 
            "outputs": [
                {
                    "output_type": "execute_result", 
                    "data": {
                        "text/plain": "<div><div>CB2 Sales Associates are at the core of our customers\u2019 experience. Friendly, outgoing and naturally driven, you\u2019re a fan of everything we sell. That enthusiasm brings a level of excitement to our stores that makes shopping fun\u2014and keeps customers coming back. Under the direction and mentorship of the Management Team, your day is dedicated to meeting and exceeding daily sales goals, becoming an expert on our products, answering customers\u2019 questions and keeping the sales floor neat and ready to shop.</div><br/>\n<ul><li>\nDemonstrate and model selling skills, customer service, merchandising and teamwork.</li><li>\nSupport the management team in leadership, training, and promotion of teamwork throughout the sales floor and stockroom.</li><li>\nEnsure full understanding of all products and have a continued awareness of the most current information available.</li><li>\nMaintain an awareness of current advertising, promotions and catalogs as well as the status of merchandise.</li><li>\nModel company standards in customer service by providing gracious, quick and efficient service with a sense of fun to all of our customers.</li><li>\nMaintain floor coverage; follow posted schedules with regard to counter assignments.</li><li>\nFocus on promoting sales and meeting sales goals.</li><li>\nDemonstrate creative problem solving selling skills to maintain a solutions-oriented focus.</li><li>\nPromote a strong sense of teamwork by working together effectively, respectfully and efficiently with all associates.</li><li>\nModel and reinforce company customer service standards.</li><li>\nActively engage customers and remain attentive to customer needs.</li><li>\nAssist customers with merchandising selections and provide gracious and efficient service.</li></ul></div>"
                    }, 
                    "execution_count": 6, 
                    "metadata": {}
                }
            ], 
            "execution_count": 6
        }, 
        {
            "source": "", 
            "cell_type": "code", 
            "metadata": {}, 
            "outputs": [], 
            "execution_count": null
        }
    ], 
    "metadata": {
        "kernelspec": {
            "display_name": "Python 3.5", 
            "name": "python3", 
            "language": "python"
        }, 
        "language_info": {
            "mimetype": "text/x-python", 
            "nbconvert_exporter": "python", 
            "version": "3.5.5", 
            "name": "python", 
            "file_extension": ".py", 
            "pygments_lexer": "ipython3", 
            "codemirror_mode": {
                "version": 3, 
                "name": "ipython"
            }
        }
    }, 
    "nbformat": 4
}