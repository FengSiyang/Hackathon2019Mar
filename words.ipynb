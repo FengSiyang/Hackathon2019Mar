{
    "nbformat_minor": 1, 
    "cells": [
        {
            "source": "# @hidden_cell\n# The project token is an authorization token that is used to access project resources like data sources, connections, and used by platform APIs.\nfrom project_lib import Project\nproject = Project(project_id='a50eb929-1abb-41ea-be8a-2576b05b3d2f', project_access_token='p-d8d4b116d8461d2426aec682007a26679f2cb921')\npc = project.project_context\n", 
            "cell_type": "code", 
            "metadata": {}, 
            "outputs": [], 
            "execution_count": 171
        }, 
        {
            "source": "import numpy as np\nimport pandas as pd\nimport urllib.request\nfrom bs4 import BeautifulSoup as bs\nimport re", 
            "cell_type": "code", 
            "metadata": {}, 
            "outputs": [], 
            "execution_count": 172
        }, 
        {
            "source": "import types\nimport pandas as pd\nfrom botocore.client import Config\nimport ibm_boto3\n\ndef __iter__(self): return 0\n\n# @hidden_cell\n# The following code accesses a file in your IBM Cloud Object Storage. It includes your credentials.\n# You might want to remove those credentials before you share your notebook.\nclient_bb2ff9ec7be94d32a0bcbbd5629362b2 = ibm_boto3.client(service_name='s3',\n    ibm_api_key_id='259gjQsHpRoIqbV9mHDv8wkI-N_ijCjRh2mIsbQmrp5i',\n    ibm_auth_endpoint=\"https://iam.bluemix.net/oidc/token\",\n    config=Config(signature_version='oauth'),\n    endpoint_url='https://s3-api.us-geo.objectstorage.service.networklayer.com')\n\nbody = client_bb2ff9ec7be94d32a0bcbbd5629362b2.get_object(Bucket='hackathon1-donotdelete-pr-swi2lnzkhpnd0w',Key='Hackathon-data scientist.csv')['Body']\n# add missing __iter__ method, so pandas accepts body as file-like object\nif not hasattr(body, \"__iter__\"): body.__iter__ = types.MethodType( __iter__, body )\n\ndf_ds = pd.read_csv(body, header=None)\ndf_ds.columns = [\"URL\"]\ndf_ds.head()\n\n\nbody = client_bb2ff9ec7be94d32a0bcbbd5629362b2.get_object(Bucket='hackathon1-donotdelete-pr-swi2lnzkhpnd0w',Key='Hackathon-engineering.csv')['Body']\n# add missing __iter__ method, so pandas accepts body as file-like object\nif not hasattr(body, \"__iter__\"): body.__iter__ = types.MethodType( __iter__, body )\n\ndf_eng = pd.read_csv(body, header=None)\ndf_eng.columns = [\"URL\"]\ndf_eng.head()\n\n\nbody = client_bb2ff9ec7be94d32a0bcbbd5629362b2.get_object(Bucket='hackathon1-donotdelete-pr-swi2lnzkhpnd0w',Key='Hackathon-not engineering.csv')['Body']\n# add missing __iter__ method, so pandas accepts body as file-like object\nif not hasattr(body, \"__iter__\"): body.__iter__ = types.MethodType( __iter__, body )\n\ndf_neng = pd.read_csv(body, header=None)\ndf_neng.columns = [\"URL\"]\ndf_neng.head()\n\n", 
            "cell_type": "code", 
            "metadata": {
                "scrolled": true
            }, 
            "outputs": [
                {
                    "output_type": "execute_result", 
                    "data": {
                        "text/html": "<div>\n<style scoped>\n    .dataframe tbody tr th:only-of-type {\n        vertical-align: middle;\n    }\n\n    .dataframe tbody tr th {\n        vertical-align: top;\n    }\n\n    .dataframe thead th {\n        text-align: right;\n    }\n</style>\n<table border=\"1\" class=\"dataframe\">\n  <thead>\n    <tr style=\"text-align: right;\">\n      <th></th>\n      <th>URL</th>\n    </tr>\n  </thead>\n  <tbody>\n    <tr>\n      <th>0</th>\n      <td>https://www.indeed.com/cmp/Total-Financial-Fre...</td>\n    </tr>\n    <tr>\n      <th>1</th>\n      <td>https://www.indeed.com/cmp/Erie-Construction/j...</td>\n    </tr>\n    <tr>\n      <th>2</th>\n      <td>https://www.indeed.com/viewjob?jk=946c24f2a3ae...</td>\n    </tr>\n    <tr>\n      <th>3</th>\n      <td>https://www.indeed.com/cmp/MaidPro-Franchising...</td>\n    </tr>\n    <tr>\n      <th>4</th>\n      <td>https://www.indeed.com/cmp/LTC-Consulting-Serv...</td>\n    </tr>\n  </tbody>\n</table>\n</div>", 
                        "text/plain": "                                                 URL\n0  https://www.indeed.com/cmp/Total-Financial-Fre...\n1  https://www.indeed.com/cmp/Erie-Construction/j...\n2  https://www.indeed.com/viewjob?jk=946c24f2a3ae...\n3  https://www.indeed.com/cmp/MaidPro-Franchising...\n4  https://www.indeed.com/cmp/LTC-Consulting-Serv..."
                    }, 
                    "execution_count": 173, 
                    "metadata": {}
                }
            ], 
            "execution_count": 173
        }, 
        {
            "source": "def selecting(df,lb):\n\n    col_names =  ['contents', 'label']\n    result  = pd.DataFrame(columns = col_names)\n    \n    for i in df.URL:\n        x = urllib.request.urlopen(i)\n        html_page = x.read()\n        a = bs(html_page, 'html.parser')\n        try:\n            #job_title = a.find(\"h3\", {\"class\":\"icl-u-xs-mb--xs icl-u-xs-mt--none jobsearch-JobInfoHeader-title\"}).contents[0]\n            conts = a.find(\"div\",{\"class\":\"jobsearch-JobComponent-description icl-u-xs-mt--md\"}).contents\n\n        except:\n            #job_title = a.find(\"font\").contents[0]\n            conts = a.find(\"div\", id=\"desc\").contents\n\n        t = \"\"\n        for i in range(len(conts)):\n            try:\n                t = t + conts[i].get_text()\n            except:\n                continue\n        result = result.append({'contents': t, 'label': lb}, ignore_index=True)\n        \n    return result\n\n    ", 
            "cell_type": "code", 
            "metadata": {
                "scrolled": true
            }, 
            "outputs": [], 
            "execution_count": 174
        }, 
        {
            "source": "def word_split(old_df, label):\n    col_names =  ['contents', 'label']\n    new_df = pd.DataFrame(columns = col_names)\n    \n    for i in old_df.contents:\n        ls = i.split('. ')\n        #ls = re.split('', i)\n        #print(ls)\n        for j in ls:\n            #print(j)\n            new_df = new_df.append({'contents':j, 'label':label}, ignore_index=True)\n    return new_df", 
            "cell_type": "code", 
            "metadata": {}, 
            "outputs": [], 
            "execution_count": 215
        }, 
        {
            "source": "ds = selecting(df_ds, \"Data Science\")", 
            "cell_type": "code", 
            "metadata": {}, 
            "outputs": [], 
            "execution_count": 218
        }, 
        {
            "source": "new_ds = word_split(ds, \"Data Science\")", 
            "cell_type": "code", 
            "metadata": {}, 
            "outputs": [], 
            "execution_count": 219
        }, 
        {
            "source": "eng = selecting(df_eng, \"Not Data Science\")", 
            "cell_type": "code", 
            "metadata": {
                "scrolled": true
            }, 
            "outputs": [], 
            "execution_count": 220
        }, 
        {
            "source": "new_eng = word_split(eng, \"Not Data Science\")", 
            "cell_type": "code", 
            "metadata": {}, 
            "outputs": [], 
            "execution_count": 221
        }, 
        {
            "source": "neng = selecting(df_neng, \"Not Data Science\")", 
            "cell_type": "code", 
            "metadata": {}, 
            "outputs": [], 
            "execution_count": 222
        }, 
        {
            "source": "new_neng = word_split(neng, \"Not Data Science\")", 
            "cell_type": "code", 
            "metadata": {}, 
            "outputs": [], 
            "execution_count": 223
        }, 
        {
            "source": "final = pd.concat([new_ds, new_eng, new_neng], ignore_index=True)\n\nfinal.head()", 
            "cell_type": "code", 
            "metadata": {
                "scrolled": true
            }, 
            "outputs": [
                {
                    "output_type": "execute_result", 
                    "data": {
                        "text/html": "<div>\n<style scoped>\n    .dataframe tbody tr th:only-of-type {\n        vertical-align: middle;\n    }\n\n    .dataframe tbody tr th {\n        vertical-align: top;\n    }\n\n    .dataframe thead th {\n        text-align: right;\n    }\n</style>\n<table border=\"1\" class=\"dataframe\">\n  <thead>\n    <tr style=\"text-align: right;\">\n      <th></th>\n      <th>contents</th>\n      <th>label</th>\n    </tr>\n  </thead>\n  <tbody>\n    <tr>\n      <th>0</th>\n      <td>At Uber, we ignite opportunity by setting the ...</td>\n      <td>Data Science</td>\n    </tr>\n    <tr>\n      <th>1</th>\n      <td>We take on big problems to help drivers, rider...</td>\n      <td>Data Science</td>\n    </tr>\n    <tr>\n      <th>2</th>\n      <td>If you have the curiosity, passion, and collab...</td>\n      <td>Data Science</td>\n    </tr>\n    <tr>\n      <th>3</th>\n      <td>Come tackle fascinating and difficult problems...</td>\n      <td>Data Science</td>\n    </tr>\n    <tr>\n      <th>4</th>\n      <td>To solve these problems, data scientists lever...</td>\n      <td>Data Science</td>\n    </tr>\n  </tbody>\n</table>\n</div>", 
                        "text/plain": "                                            contents         label\n0  At Uber, we ignite opportunity by setting the ...  Data Science\n1  We take on big problems to help drivers, rider...  Data Science\n2  If you have the curiosity, passion, and collab...  Data Science\n3  Come tackle fascinating and difficult problems...  Data Science\n4  To solve these problems, data scientists lever...  Data Science"
                    }, 
                    "execution_count": 244, 
                    "metadata": {}
                }
            ], 
            "execution_count": 244
        }, 
        {
            "source": "drop_ls = []\nfor i in range(len(final.contents)):\n    if len(final.contents[i]) >= 1024:\n        drop_ls.append(i)", 
            "cell_type": "code", 
            "metadata": {}, 
            "outputs": [], 
            "execution_count": 245
        }, 
        {
            "source": "final.shape", 
            "cell_type": "code", 
            "metadata": {}, 
            "outputs": [
                {
                    "output_type": "execute_result", 
                    "data": {
                        "text/plain": "(749, 2)"
                    }, 
                    "execution_count": 246, 
                    "metadata": {}
                }
            ], 
            "execution_count": 246
        }, 
        {
            "source": "final1 = final.drop(drop_ls)\nfinal1.shape", 
            "cell_type": "code", 
            "metadata": {}, 
            "outputs": [
                {
                    "output_type": "execute_result", 
                    "data": {
                        "text/plain": "(678, 2)"
                    }, 
                    "execution_count": 247, 
                    "metadata": {}
                }
            ], 
            "execution_count": 247
        }, 
        {
            "source": "project.save_data(data=final1.to_csv(index=False), file_name='job_label.csv', overwrite=True)", 
            "cell_type": "code", 
            "metadata": {}, 
            "outputs": [
                {
                    "output_type": "execute_result", 
                    "data": {
                        "text/plain": "{'asset_id': 'dacfb0f3-52e6-4e07-a913-edd1416ae680',\n 'bucket_name': 'hackathon1-donotdelete-pr-swi2lnzkhpnd0w',\n 'file_name': 'job_label.csv',\n 'message': 'File saved to project storage.'}"
                    }, 
                    "execution_count": 248, 
                    "metadata": {}
                }
            ], 
            "execution_count": 248
        }, 
        {
            "source": "", 
            "cell_type": "code", 
            "metadata": {}, 
            "outputs": [], 
            "execution_count": null
        }, 
        {
            "source": "", 
            "cell_type": "code", 
            "metadata": {}, 
            "outputs": [], 
            "execution_count": null
        }
    ], 
    "metadata": {
        "kernelspec": {
            "display_name": "Python 3.5", 
            "name": "python3", 
            "language": "python"
        }, 
        "language_info": {
            "mimetype": "text/x-python", 
            "nbconvert_exporter": "python", 
            "version": "3.5.5", 
            "name": "python", 
            "pygments_lexer": "ipython3", 
            "file_extension": ".py", 
            "codemirror_mode": {
                "version": 3, 
                "name": "ipython"
            }
        }
    }, 
    "nbformat": 4
}